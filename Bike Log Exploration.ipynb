{
 "cells": [
  {
   "cell_type": "code",
   "execution_count": null,
   "metadata": {},
   "outputs": [],
   "source": [
    "%matplotlib inline"
   ]
  },
  {
   "cell_type": "code",
   "execution_count": null,
   "metadata": {},
   "outputs": [],
   "source": [
    "import datetime as dt\n",
    "import statistics\n",
    "from pathlib import Path\n",
    "\n",
    "from stages_cycling.models import CycleWorkout"
   ]
  },
  {
   "cell_type": "markdown",
   "metadata": {},
   "source": [
    "# Basic Batch Statistics\n",
    "\n",
    "Do some basic iteration over a directory of Stages Cycle CSV log files & output some aggregate statistics"
   ]
  },
  {
   "cell_type": "code",
   "execution_count": null,
   "metadata": {},
   "outputs": [],
   "source": [
    "workout_dir = Path(\"P:/ath/to/log/directory/\")\n",
    "rides = [CycleWorkout.from_csv(workout) for workout in workout_dir.glob(\"*.CSV\")]"
   ]
  },
  {
   "cell_type": "code",
   "execution_count": null,
   "metadata": {},
   "outputs": [],
   "source": [
    "n_rides = len(rides)\n",
    "\n",
    "total_miles = sum(ride.full_ride_summary.total_distance for ride in rides)\n",
    "avg_speed = statistics.mean(ride.full_ride_summary.avg_speed for ride in rides)\n",
    "\n",
    "total_seconds = sum(ride.full_ride_summary.total_seconds for ride in rides)\n",
    "avg_time = dt.timedelta(seconds=(total_seconds//n_rides))\n",
    "\n",
    "print(\n",
    "    f\"Total Rides:     {n_rides}\\n\"\n",
    "    f\"Total Mileage:   {total_miles:.2f} mi\\n\\n\"\n",
    "    f\"Average Time:    {avg_time}\\n\"\n",
    "    f\"Average Mileage: {total_miles/n_rides:.2f} mi\\n\"\n",
    "    f\"Average Speed:   {avg_speed:.2f} MPH\\n\"\n",
    ")"
   ]
  }
 ],
 "metadata": {
  "kernelspec": {
   "display_name": "Python 3.8.2 64-bit",
   "language": "python",
   "name": "python38264bit93cee484a0ec4468b0108c6bdb30f7ea"
  },
  "language_info": {
   "codemirror_mode": {
    "name": "ipython",
    "version": 3
   },
   "file_extension": ".py",
   "mimetype": "text/x-python",
   "name": "python",
   "nbconvert_exporter": "python",
   "pygments_lexer": "ipython3",
   "version": "3.8.2"
  }
 },
 "nbformat": 4,
 "nbformat_minor": 4
}